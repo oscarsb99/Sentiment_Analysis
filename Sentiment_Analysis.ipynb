{
  "nbformat": 4,
  "nbformat_minor": 0,
  "metadata": {
    "colab": {
      "name": "Sentiment Analysis.ipynb",
      "provenance": []
    },
    "kernelspec": {
      "name": "python3",
      "display_name": "Python 3"
    },
    "language_info": {
      "name": "python"
    }
  },
  "cells": [
    {
      "cell_type": "markdown",
      "source": [
        "### Sentiment Analysis\n",
        "* The objetive is to run a classification model of sentiment (binary), with books reviews data with NLP approaches.\n",
        "* Model results: with the Naive Bayes Classifer gets an accuracy of 80% and recall of 81%."
      ],
      "metadata": {
        "id": "YIaPqEwtgcmp"
      }
    },
    {
      "cell_type": "code",
      "execution_count": null,
      "metadata": {
        "id": "VuzxN_FYdyuQ"
      },
      "outputs": [],
      "source": [
        "import nltk\n",
        "import re\n",
        "import numpy as np\n",
        "import pandas as pd\n",
        "import random\n",
        "import sklearn\n",
        "import matplotlib.pyplot as plt\n",
        "nltk.download('punkt') \n",
        "nltk.download('averaged_perceptron_tagger')\n",
        "from nltk import word_tokenize \n",
        "nltk.download('stopwords')\n",
        "from nltk.corpus import stopwords"
      ]
    },
    {
      "cell_type": "code",
      "source": [
        "#conection with Drive\n",
        "from google.colab import drive\n",
        "drive.mount('/content/drive')"
      ],
      "metadata": {
        "colab": {
          "base_uri": "https://localhost:8080/"
        },
        "id": "z5CwU6fVra7Q",
        "outputId": "ad9c99f0-ec9a-49f8-f94a-11761c725cec"
      },
      "execution_count": null,
      "outputs": [
        {
          "output_type": "stream",
          "name": "stdout",
          "text": [
            "Mounted at /content/drive\n"
          ]
        }
      ]
    },
    {
      "cell_type": "code",
      "source": [
        "import tarfile\n",
        "\n",
        "file = tarfile.open('/content/drive/MyDrive/Colab Notebooks/Bases/processed_acl.tar.gz')\n",
        "file.extractall('./data_reviews') \n",
        "file.close()\n",
        "\n",
        "# classify the files if has negative or positive reviews\n",
        "\n",
        "negative_file = open('data_reviews/processed_acl/books/negative.review', 'r').read()\n",
        "positive_file = open('data_reviews/processed_acl/books/positive.review', 'r').read()"
      ],
      "metadata": {
        "id": "ONGMWzQTroTa"
      },
      "execution_count": null,
      "outputs": []
    },
    {
      "cell_type": "code",
      "source": [
        "# the data comes like this, the next step is to transform it to a bag of words\n",
        "negative_file[:100]"
      ],
      "metadata": {
        "colab": {
          "base_uri": "https://localhost:8080/",
          "height": 35
        },
        "id": "ZxyXxWsUsowm",
        "outputId": "b95ab4c5-b409-4afb-c8cc-886a44e2fbfd"
      },
      "execution_count": null,
      "outputs": [
        {
          "output_type": "execute_result",
          "data": {
            "text/plain": [
              "'avid:1 your:1 horrible_book:1 wasted:1 use_it:1 the_entire:1 money.i:1 i_lit:1 i_read:1 lit:1 i_woul'"
            ],
            "application/vnd.google.colaboratory.intrinsic+json": {
              "type": "string"
            }
          },
          "metadata": {},
          "execution_count": 4
        }
      ]
    },
    {
      "cell_type": "code",
      "source": [
        "# stopwords in a list\n",
        "stop = stopwords.words('english')\n",
        "# split the dataset with regex\n",
        "key_positive = re.findall('([\\S]+):',positive_file)\n",
        "key_negative = re.findall('([\\S]+):',negative_file)\n",
        "# collect all the words and filter not in stopwords\n",
        "all_words = key_positive + key_negative\n",
        "all_words = [word for word in all_words if word not in stop]\n",
        "# get the frequency \n",
        "fdist = nltk.FreqDist(all_words)\n",
        "print('in the BOW we got: {} potential features'.format(len(fdist)))"
      ],
      "metadata": {
        "colab": {
          "base_uri": "https://localhost:8080/"
        },
        "id": "mku78tVEskwB",
        "outputId": "9d2ad41a-b19c-4b9e-ef44-e8825d2d4f0f"
      },
      "execution_count": null,
      "outputs": [
        {
          "output_type": "stream",
          "name": "stdout",
          "text": [
            "in the BOW we got: 195777 potential features\n"
          ]
        }
      ]
    },
    {
      "cell_type": "code",
      "source": [
        "# visualization of word frequency\n",
        "fdist.plot(15)"
      ],
      "metadata": {
        "colab": {
          "base_uri": "https://localhost:8080/",
          "height": 335
        },
        "id": "FUSrAj3Px1eC",
        "outputId": "aaf39397-2dd5-4686-e114-ffc348b73606"
      },
      "execution_count": null,
      "outputs": [
        {
          "output_type": "display_data",
          "data": {
            "text/plain": [
              "<Figure size 432x288 with 1 Axes>"
            ],
            "image/png": "[encoded data removed]"
          },
          "metadata": {
            "needs_background": "light"
          }
        },
        {
          "output_type": "execute_result",
          "data": {
            "text/plain": [
              "<matplotlib.axes._subplots.AxesSubplot at 0x7f17fb9e2ad0>"
            ]
          },
          "metadata": {},
          "execution_count": 6
        }
      ]
    },
    {
      "cell_type": "code",
      "source": [
        "## the first loop is to split the dataset in words, the second one joins that in sentences\n",
        "\n",
        "#### NEGATIVE\n",
        "keys = []\n",
        "pos_keys = []\n",
        "new_keys = []\n",
        "labels = []\n",
        "\n",
        "for line in negative_file.split('#label#:negative\\n'):\n",
        "  keys.append(re.findall('([\\S]+):',line))\n",
        "\n",
        "for word in keys:\n",
        "  new_keys.append(' '.join(word))\n",
        "  labels.append('negative')\n",
        "\n",
        "#### POSITIVE\n",
        "\n",
        "for line_pos in positive_file.split('#label#:positive\\n'):\n",
        "  pos_keys.append(re.findall('([\\S]+):',line_pos))\n",
        "\n",
        "for word_pos in pos_keys:\n",
        "  new_keys.append(' '.join(word_pos))\n",
        "  labels.append('positive')  \n",
        "\n",
        "print(len(new_keys)==len(labels))  \n"
      ],
      "metadata": {
        "colab": {
          "base_uri": "https://localhost:8080/"
        },
        "id": "qXxHxKCltcm6",
        "outputId": "e74f8b7f-bd80-4a9d-c1a5-08ebceb2a6a5"
      },
      "execution_count": null,
      "outputs": [
        {
          "output_type": "stream",
          "name": "stdout",
          "text": [
            "True\n"
          ]
        }
      ]
    },
    {
      "cell_type": "code",
      "source": [
        "from sklearn.feature_extraction.text import CountVectorizer\n",
        "from sklearn.model_selection import train_test_split\n",
        "from sklearn.naive_bayes import MultinomialNB\n",
        "from sklearn.linear_model import LogisticRegression\n",
        "from sklearn.tree import DecisionTreeClassifier"
      ],
      "metadata": {
        "id": "qgvitVd7unZM"
      },
      "execution_count": null,
      "outputs": []
    },
    {
      "cell_type": "code",
      "source": [
        "# remove the stopwords before vectorize it \n",
        "vector_alg = CountVectorizer(stop_words=stop)\n",
        "vector_alg.fit(new_keys)"
      ],
      "metadata": {
        "colab": {
          "base_uri": "https://localhost:8080/"
        },
        "id": "y9KCEhiQuz1Z",
        "outputId": "c830425b-195a-4be0-edf1-3b6a7391dc69"
      },
      "execution_count": null,
      "outputs": [
        {
          "output_type": "execute_result",
          "data": {
            "text/plain": [
              "CountVectorizer(stop_words=['i', 'me', 'my', 'myself', 'we', 'our', 'ours',\n",
              "                            'ourselves', 'you', \"you're\", \"you've\", \"you'll\",\n",
              "                            \"you'd\", 'your', 'yours', 'yourself', 'yourselves',\n",
              "                            'he', 'him', 'his', 'himself', 'she', \"she's\",\n",
              "                            'her', 'hers', 'herself', 'it', \"it's\", 'its',\n",
              "                            'itself', ...])"
            ]
          },
          "metadata": {},
          "execution_count": 9
        }
      ]
    },
    {
      "cell_type": "code",
      "source": [
        "# transform all the dataset into a vector of 1 and 0\n",
        "bag_words = vector_alg.transform(new_keys)\n",
        "bag_words.shape"
      ],
      "metadata": {
        "colab": {
          "base_uri": "https://localhost:8080/"
        },
        "id": "8Ax30SWRvJZ9",
        "outputId": "571061ca-7eab-4e4c-c1d2-aad3cccfcf1e"
      },
      "execution_count": null,
      "outputs": [
        {
          "output_type": "execute_result",
          "data": {
            "text/plain": [
              "(2002, 181437)"
            ]
          },
          "metadata": {},
          "execution_count": 10
        }
      ]
    },
    {
      "cell_type": "code",
      "source": [
        "train_vectors, test_vectors, train_labels, test_labels = train_test_split(bag_words, labels, test_size=0.3, random_state=42)"
      ],
      "metadata": {
        "id": "X8c3AnMuvRI7"
      },
      "execution_count": null,
      "outputs": []
    },
    {
      "cell_type": "markdown",
      "source": [
        "### Classification models\n",
        "* The Multinomial Naive Bayes gets the best accuracy and recall (80% - 81%)."
      ],
      "metadata": {
        "id": "czyfhvoW1J8N"
      }
    },
    {
      "cell_type": "code",
      "source": [
        "# try different models \n",
        "clf = MultinomialNB().fit(train_vectors, train_labels)\n",
        "log = LogisticRegression().fit(train_vectors, train_labels)\n",
        "tree = DecisionTreeClassifier().fit(train_vectors, train_labels)"
      ],
      "metadata": {
        "id": "v53SnAprvaGh"
      },
      "execution_count": null,
      "outputs": []
    },
    {
      "cell_type": "code",
      "source": [
        "print('Multinomial Naive Bayes')\n",
        "print('Accuracy:', sklearn.metrics.accuracy_score(clf.predict(test_vectors), test_labels))\n",
        "print('Recall:',sklearn.metrics.recall_score(clf.predict(test_vectors), test_labels, average=\"binary\", pos_label=\"positive\"))\n",
        "print('')\n",
        "print('Logistic Regression')\n",
        "print('Accuracy:',sklearn.metrics.accuracy_score(log.predict(test_vectors), test_labels))\n",
        "print('Recall:',sklearn.metrics.recall_score(log.predict(test_vectors), test_labels, average=\"binary\", pos_label=\"positive\"))\n",
        "print('')\n",
        "print('Decission Tree Classifier')\n",
        "print('Accuracy:',sklearn.metrics.accuracy_score(tree.predict(test_vectors), test_labels))\n",
        "print('Recall:',sklearn.metrics.recall_score(tree.predict(test_vectors), test_labels, average=\"binary\", pos_label=\"positive\"))"
      ],
      "metadata": {
        "colab": {
          "base_uri": "https://localhost:8080/"
        },
        "id": "wD0IdAPrvcIO",
        "outputId": "5ff84656-e053-470f-f2d4-4f5c81d9375d"
      },
      "execution_count": null,
      "outputs": [
        {
          "output_type": "stream",
          "name": "stdout",
          "text": [
            "Multinomial Naive Bayes\n",
            "Accuracy: 0.8036605657237936\n",
            "Recall: 0.8142857142857143\n",
            "\n",
            "Logistic Regression\n",
            "Accuracy: 0.7803660565723793\n",
            "Recall: 0.7682119205298014\n",
            "\n",
            "Decission Tree Classifier\n",
            "Accuracy: 0.6871880199667221\n",
            "Recall: 0.673202614379085\n"
          ]
        }
      ]
    },
    {
      "cell_type": "code",
      "source": [
        "# results of the best model (Multinomial Naive Bayes)\n",
        "sklearn.metrics.plot_confusion_matrix(clf, test_vectors, test_labels);"
      ],
      "metadata": {
        "colab": {
          "base_uri": "https://localhost:8080/",
          "height": 335
        },
        "id": "-z9jXcCAvfEK",
        "outputId": "540e6a8a-6264-4c69-ee6c-b726282420f7"
      },
      "execution_count": null,
      "outputs": [
        {
          "output_type": "stream",
          "name": "stderr",
          "text": [
            "/usr/local/lib/python3.7/dist-packages/sklearn/utils/deprecation.py:87: FutureWarning: Function plot_confusion_matrix is deprecated; Function `plot_confusion_matrix` is deprecated in 1.0 and will be removed in 1.2. Use one of the class methods: ConfusionMatrixDisplay.from_predictions or ConfusionMatrixDisplay.from_estimator.\n",
            "  warnings.warn(msg, category=FutureWarning)\n"
          ]
        },
        {
          "output_type": "display_data",
          "data": {
            "text/plain": [
              "<Figure size 432x288 with 2 Axes>"
            ],
            "image/png": "[encoded data removed]"
          },
          "metadata": {
            "needs_background": "light"
          }
        }
      ]
    },
    {
      "cell_type": "code",
      "source": [
        "# another try\n",
        "clf.predict(vector_alg.transform(['this book is the worst thing i have ever read', 'give a nobel prize for the autor', 'not a good story']))"
      ],
      "metadata": {
        "colab": {
          "base_uri": "https://localhost:8080/"
        },
        "id": "mt4_kPbZ8XU-",
        "outputId": "5a242c22-823f-4d19-b3e3-5c49264af900"
      },
      "execution_count": null,
      "outputs": [
        {
          "output_type": "execute_result",
          "data": {
            "text/plain": [
              "array(['negative', 'positive', 'negative'], dtype='<U8')"
            ]
          },
          "metadata": {},
          "execution_count": 15
        }
      ]
    }
  ]
}